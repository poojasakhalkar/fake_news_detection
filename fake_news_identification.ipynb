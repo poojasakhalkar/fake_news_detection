{
 "cells": [
  {
   "cell_type": "code",
   "execution_count": 1,
   "metadata": {},
   "outputs": [],
   "source": [
    "import pandas as pd\n",
    "from sklearn.ensemble import RandomForestClassifier\n",
    "from sklearn.metrics import classification_report\n",
    "from sklearn.model_selection import train_test_split\n",
    "from sklearn.feature_extraction.text import TfidfVectorizer"
   ]
  },
  {
   "cell_type": "markdown",
   "metadata": {},
   "source": [
    "### Read data files"
   ]
  },
  {
   "cell_type": "code",
   "execution_count": 2,
   "metadata": {},
   "outputs": [],
   "source": [
    "df_train = pd.read_csv(\"train.csv\")\n",
    "df_test = pd.read_csv(\"test.csv\")\n",
    "df_combine  = pd.concat([df_train,df_test])\n"
   ]
  },
  {
   "cell_type": "markdown",
   "metadata": {},
   "source": [
    "### Data Preprocessing"
   ]
  },
  {
   "cell_type": "code",
   "execution_count": 3,
   "metadata": {},
   "outputs": [
    {
     "name": "stdout",
     "output_type": "stream",
     "text": [
      "Dataframe Information :\n",
      "<class 'pandas.core.frame.DataFrame'>\n",
      "Int64Index: 26000 entries, 0 to 5199\n",
      "Data columns (total 5 columns):\n",
      " #   Column  Non-Null Count  Dtype  \n",
      "---  ------  --------------  -----  \n",
      " 0   id      26000 non-null  int64  \n",
      " 1   title   25320 non-null  object \n",
      " 2   author  23540 non-null  object \n",
      " 3   text    25954 non-null  object \n",
      " 4   label   20800 non-null  float64\n",
      "dtypes: float64(1), int64(1), object(3)\n",
      "memory usage: 1.2+ MB\n",
      "\n",
      " None\n",
      "\n",
      "Unique count of Authors:  4845\n",
      "\n",
      " id                        0\n",
      "text                     46\n",
      "label                  5200\n",
      "combine_text_author    3140\n",
      "dtype: int64\n"
     ]
    }
   ],
   "source": [
    "print(\"Dataframe Information :\")\n",
    "print(\"\\n\",df_combine.info())\n",
    "print(\"\\nUnique count of Authors: \", df_combine.author.nunique())\n",
    "\n",
    "\n",
    "df_combine[\"combine_text_author\"] = df_combine[\"title\"]+ \" - \"+df_combine[\"text\"] + \" - \" + df_combine[\"author\"]\n",
    "df_combine.drop([\"title\", \"author\"], axis=\"columns\", inplace=True)\n",
    "df_combine.head()\n",
    "\n",
    "print(\"\\n\",df_combine.isnull().sum())\n",
    "df_combine.dropna(inplace=True)\n",
    "\n"
   ]
  },
  {
   "cell_type": "code",
   "execution_count": 4,
   "metadata": {},
   "outputs": [],
   "source": [
    "# df_combine[\"combine_text_author\"] = df_combine[\"text\"] + \" - \" + df_combine[\"author\"]\n",
    "\n",
    "vectorizer = TfidfVectorizer(analyzer='word', ngram_range=(1,3), stop_words = \"english\", lowercase = True,\n",
    "                          max_features = 500000)\n",
    "\n",
    "tfidf_old  = vectorizer.fit(df_combine[\"combine_text_author\"])\n",
    "tfidf_data = vectorizer.fit_transform(df_combine[\"combine_text_author\"])"
   ]
  },
  {
   "cell_type": "markdown",
   "metadata": {},
   "source": [
    "### Data split"
   ]
  },
  {
   "cell_type": "code",
   "execution_count": 5,
   "metadata": {},
   "outputs": [],
   "source": [
    "X_train, X_test, y_train, y_test = train_test_split(tfidf_data, df_combine['label'], test_size = 0.25)"
   ]
  },
  {
   "cell_type": "markdown",
   "metadata": {},
   "source": [
    "### Classification Algorithm"
   ]
  },
  {
   "cell_type": "code",
   "execution_count": 6,
   "metadata": {},
   "outputs": [
    {
     "name": "stdout",
     "output_type": "stream",
     "text": [
      "              precision    recall  f1-score   support\n",
      "\n",
      "         0.0       0.94      0.99      0.96      2655\n",
      "         1.0       0.98      0.92      0.95      1917\n",
      "\n",
      "    accuracy                           0.96      4572\n",
      "   macro avg       0.96      0.95      0.96      4572\n",
      "weighted avg       0.96      0.96      0.96      4572\n",
      "\n"
     ]
    }
   ],
   "source": [
    "clf = RandomForestClassifier()\n",
    "clf.fit(X_train, y_train)\n",
    "pred = clf.predict(X_test)\n",
    "\n",
    "print(classification_report(y_test,pred))"
   ]
  },
  {
   "cell_type": "markdown",
   "metadata": {},
   "source": [
    "### Creation of Submit.csv"
   ]
  },
  {
   "cell_type": "code",
   "execution_count": 7,
   "metadata": {},
   "outputs": [],
   "source": [
    "df_submit = pd.DataFrame()\n",
    "\n",
    "tf1_new = TfidfVectorizer(analyzer='word', ngram_range=(1,2), stop_words = \"english\", lowercase = True,\n",
    "                          max_features = 500000, vocabulary = tfidf_old.vocabulary_)\n",
    "df_test[\"combine\"] =  df_test[\"text\"] + \" - \" + df_test[\"author\"] \n",
    "df_test.isnull().sum()\n",
    "df_test.dropna(inplace=True) \n",
    "combine_tfidf = tf1_new.fit_transform(df_test[\"combine\"])\n",
    "label =  clf.predict(combine_tfidf)\n",
    "\n",
    "df_submit[\"id\"] = df_test[\"id\"]\n",
    "df_submit[\"label\"] = label\n",
    "df_submit.to_csv(\"submit.csv\", index=False)"
   ]
  }
 ],
 "metadata": {
  "kernelspec": {
   "display_name": "Python 3",
   "language": "python",
   "name": "python3"
  },
  "language_info": {
   "codemirror_mode": {
    "name": "ipython",
    "version": 3
   },
   "file_extension": ".py",
   "mimetype": "text/x-python",
   "name": "python",
   "nbconvert_exporter": "python",
   "pygments_lexer": "ipython3",
   "version": "3.7.0"
  }
 },
 "nbformat": 4,
 "nbformat_minor": 4
}
